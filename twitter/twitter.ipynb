{
 "cells": [
  {
   "cell_type": "code",
   "execution_count": 7,
   "metadata": {},
   "outputs": [],
   "source": [
    "#91.0.4472.101 google chrome version and download webdriver for selenium\n",
    "#Selenium BeautifulSoup Pandas Numpy install"
   ]
  },
  {
   "cell_type": "code",
   "execution_count": 1,
   "metadata": {},
   "outputs": [],
   "source": [
    "from bs4 import BeautifulSoup as bs\n",
    "from selenium import webdriver\n",
    "import time\n",
    "import csv\n",
    "import pandas as pd\n",
    "import requests\n",
    "import numpy as np"
   ]
  },
  {
   "cell_type": "code",
   "execution_count": 2,
   "metadata": {},
   "outputs": [],
   "source": [
    "browser = webdriver.Chrome()\n",
    "browser.get(\"https://twitter.com/search?q=%22Request%20for%20Startup%22&src=typed_query\")\n",
    "\n",
    "#-----------------OPEN CSV FILE----------------------------------\n",
    "\n",
    "file = open(\"twitter.csv\",\"w\",encoding=\"utf-8\")\n",
    "writer = csv.writer(file)\n",
    "writer.writerow([\"Tweet\",\"Like\",\"Comment\",\"Retweet\",\"Author\",\"Time\"])\n",
    "\n",
    "#-----------------OPEN CSV FILE----------------------------------\n",
    "\n",
    "\n",
    "\n",
    "#------------------------------------------SCROLL AND GET TWEETS:---------------------------------------------------------------\n",
    "\n",
    "# Get scroll height\n",
    "last_height = browser.execute_script(\"return document.body.scrollHeight\")\n",
    "while True:  \n",
    "        \n",
    "    i=0\n",
    "    while i<1:\n",
    "        browser.execute_script(\"window.scrollTo(0, document.body.scrollHeight);\")\n",
    "        new_height = browser.execute_script(\"return document.body.scrollHeight\")\n",
    "        time.sleep(4)\n",
    "\n",
    "        if new_height == last_height:\n",
    "            break\n",
    "        else:\n",
    "            last_height = new_height\n",
    "\n",
    "        i = i+1\n",
    "    \n",
    "    # Calculate new scroll height and compare with last scroll height\n",
    "    new_height = browser.execute_script(\"return document.body.scrollHeight\")\n",
    "    if new_height == last_height:\n",
    "        break\n",
    "    #\n",
    "    last_height = new_height\n",
    "    source=browser.page_source\n",
    "    soup=bs(source,\"html.parser\")\n",
    "    tweets=soup.find_all(\"div\",attrs={\"data-testid\":\"tweet\"})\n",
    "    \n",
    "    for i in tweets:\n",
    "        try:\n",
    "            tweet=i.find(\"div\",attrs={\"class\":\"css-901oao r-1fmj7o5 r-1qd0xha r-a023e6 r-16dba41 r-rjixqe r-bcqeeo r-bnwqim r-qvutc0\"}).text\n",
    "            comment=i.find(\"div\", attrs={\"data-testid\":\"reply\"}).text\n",
    "            retweet=i.find(\"div\", attrs={\"data-testid\":\"retweet\"}).text\n",
    "            like=i.find(\"div\", attrs={\"data-testid\":\"like\"}).text\n",
    "            author=i.find(\"div\",attrs={\"class\":\"css-901oao css-bfa6kz r-9ilb82 r-18u37iz r-1qd0xha r-a023e6 r-16dba41 r-rjixqe r-bcqeeo r-qvutc0\"}).text\n",
    "            datetime=i.find(\"a\",attrs={\"class\":\"css-4rbku5 css-18t94o4 css-901oao r-9ilb82 r-1loqt21 r-1q142lx r-1qd0xha r-a023e6 r-16dba41 r-rjixqe r-bcqeeo r-3s2u2q r-qvutc0\"}).text\n",
    "\n",
    "\n",
    "            writer.writerow([tweet,like,comment,retweet,author,datetime])\n",
    "        except:\n",
    "            print(\"NULL\")\n",
    "    \n",
    "#------------------------------------------SCROLL AND GET TWEETS:---------------------------------------------------------------\n",
    "\n",
    "        \n",
    "browser.close()#close the browser\n",
    "      "
   ]
  },
  {
   "cell_type": "code",
   "execution_count": 3,
   "metadata": {},
   "outputs": [],
   "source": [
    "#read csv and pre-processing\n",
    "twitter_ = pd.read_csv(\"twitter.csv\")\n",
    "twitter_.drop_duplicates(inplace=True)\n",
    "twitter_=twitter_.replace(np.NaN,0)\n",
    "\n",
    "\n",
    "#csv to excel and save \n",
    "twitter_.to_excel(\"tweetsExcel.xlsx\")"
   ]
  },
  {
   "cell_type": "code",
   "execution_count": 4,
   "metadata": {},
   "outputs": [],
   "source": [
    "from flask import Flask, request, render_template, session, redirect"
   ]
  },
  {
   "cell_type": "code",
   "execution_count": 5,
   "metadata": {},
   "outputs": [
    {
     "name": "stdout",
     "output_type": "stream",
     "text": [
      " * Serving Flask app \"__main__\" (lazy loading)\n",
      " * Environment: production\n",
      "   WARNING: Do not use the development server in a production environment.\n",
      "   Use a production WSGI server instead.\n",
      " * Debug mode: off\n"
     ]
    },
    {
     "name": "stderr",
     "output_type": "stream",
     "text": [
      " * Running on http://127.0.0.1:5000/ (Press CTRL+C to quit)\n",
      "127.0.0.1 - - [13/Jun/2021 15:31:42] \"\u001b[37mGET / HTTP/1.1\u001b[0m\" 200 -\n",
      "127.0.0.1 - - [13/Jun/2021 15:31:43] \"\u001b[33mGET /favicon.ico HTTP/1.1\u001b[0m\" 404 -\n"
     ]
    }
   ],
   "source": [
    "#Flask web app with tweets \n",
    "app = Flask(__name__,template_folder='templates')\n",
    "@app.route('/', methods=(\"POST\", \"GET\"))\n",
    "def twitterTable():\n",
    "\n",
    "    return render_template('twitterTable.html',  tables=[twitter_.to_html(classes='data')], titles=twitter_.columns.values)\n",
    "\n",
    "if __name__ == '__main__':\n",
    "    app.run()"
   ]
  },
  {
   "cell_type": "code",
   "execution_count": null,
   "metadata": {},
   "outputs": [],
   "source": []
  },
  {
   "cell_type": "code",
   "execution_count": null,
   "metadata": {},
   "outputs": [],
   "source": []
  }
 ],
 "metadata": {
  "kernelspec": {
   "display_name": "Python 3",
   "language": "python",
   "name": "python3"
  },
  "language_info": {
   "codemirror_mode": {
    "name": "ipython",
    "version": 3
   },
   "file_extension": ".py",
   "mimetype": "text/x-python",
   "name": "python",
   "nbconvert_exporter": "python",
   "pygments_lexer": "ipython3",
   "version": "3.7.3"
  }
 },
 "nbformat": 4,
 "nbformat_minor": 2
}
